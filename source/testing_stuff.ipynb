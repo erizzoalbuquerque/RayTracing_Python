{
 "cells": [
  {
   "cell_type": "code",
   "execution_count": 10,
   "metadata": {},
   "outputs": [],
   "source": [
    "import glm"
   ]
  },
  {
   "cell_type": "code",
   "execution_count": 11,
   "metadata": {},
   "outputs": [],
   "source": [
    "eye = glm.vec3(0,1,0)\n",
    "target = glm.vec3(0,1,1)\n",
    "up = glm.vec3(0,1,0)"
   ]
  },
  {
   "cell_type": "code",
   "execution_count": 12,
   "metadata": {},
   "outputs": [
    {
     "name": "stdout",
     "output_type": "stream",
     "text": [
      "[           -1 ][            0 ][            0 ][           -0 ]\n",
      "[            0 ][            1 ][           -0 ][           -1 ]\n",
      "[           -0 ][           -0 ][           -1 ][            0 ]\n",
      "[            0 ][            0 ][            0 ][            1 ]\n"
     ]
    }
   ],
   "source": [
    "V = glm.lookAt(eye,target,up) # to local space\n",
    "print(V)"
   ]
  },
  {
   "cell_type": "code",
   "execution_count": 13,
   "metadata": {},
   "outputs": [
    {
     "data": {
      "text/plain": [
       "vec4( 0, -1, 0, 1 )"
      ]
     },
     "execution_count": 13,
     "metadata": {},
     "output_type": "execute_result"
    }
   ],
   "source": [
    "V*glm.vec4(0,0,0,1)"
   ]
  },
  {
   "cell_type": "code",
   "execution_count": 14,
   "metadata": {},
   "outputs": [
    {
     "name": "stdout",
     "output_type": "stream",
     "text": [
      "[           -1 ][           -0 ][            0 ][           -0 ]\n",
      "[           -0 ][            1 ][            0 ][            1 ]\n",
      "[            0 ][           -0 ][           -1 ][            0 ]\n",
      "[           -0 ][            0 ][            0 ][            1 ]\n"
     ]
    }
   ],
   "source": [
    "V_inv = glm.inverse(V) #to world\n",
    "print(V_inv)"
   ]
  },
  {
   "cell_type": "code",
   "execution_count": 16,
   "metadata": {},
   "outputs": [
    {
     "name": "stdout",
     "output_type": "stream",
     "text": [
      "vec3(            1,            2,            3 )\n",
      "vec3(     0.267261,     0.534522,     0.801784 )\n"
     ]
    }
   ],
   "source": [
    "u = glm.vec3(1,2,3)\n",
    "print(u)\n",
    "u_normalized = glm.normalize(u)\n",
    "print(u_normalized)"
   ]
  },
  {
   "cell_type": "code",
   "execution_count": 17,
   "metadata": {},
   "outputs": [
    {
     "name": "stdout",
     "output_type": "stream",
     "text": [
      "vec4(            1,            2,            3,            1 )\n",
      "vec4(     0.258199,     0.516398,     0.774597,     0.258199 )\n"
     ]
    }
   ],
   "source": [
    "v = glm.vec4(1,2,3,1)\n",
    "print(v)\n",
    "v_normalized = glm.normalize(v)\n",
    "print(v_normalized)"
   ]
  },
  {
   "cell_type": "code",
   "execution_count": 1,
   "metadata": {},
   "outputs": [
    {
     "ename": "NameError",
     "evalue": "name 'b' is not defined",
     "output_type": "error",
     "traceback": [
      "\u001b[1;31m---------------------------------------------------------------------------\u001b[0m",
      "\u001b[1;31mNameError\u001b[0m                                 Traceback (most recent call last)",
      "Cell \u001b[1;32mIn [1], line 18\u001b[0m\n\u001b[0;32m     14\u001b[0m         \u001b[38;5;28msuper\u001b[39m()\u001b[38;5;241m.\u001b[39m\u001b[38;5;21m__init__\u001b[39m()\n\u001b[0;32m     15\u001b[0m         \u001b[38;5;28mself\u001b[39m\u001b[38;5;241m.\u001b[39mw \u001b[38;5;241m=\u001b[39m \u001b[38;5;241m5\u001b[39m\n\u001b[1;32m---> 18\u001b[0m b \u001b[38;5;241m=\u001b[39m \u001b[43mb\u001b[49m()\n\u001b[0;32m     20\u001b[0m \u001b[38;5;28mtype\u001b[39m(b)\n",
      "\u001b[1;31mNameError\u001b[0m: name 'b' is not defined"
     ]
    }
   ],
   "source": [
    "class A:\n",
    "    def __init__(self):\n",
    "        self.x = 1\n",
    "        self.y = 2\n",
    "        self.z = 3\n",
    "\n",
    "class B(A):\n",
    "    def __init__(self):\n",
    "        super().__init__()\n",
    "        self.w = 4\n",
    "\n",
    "class C(A):\n",
    "    def __init__(self):\n",
    "        super().__init__()\n",
    "        self.w = 5\n",
    "        \n",
    "        \n",
    "b = B()\n",
    "\n",
    "type(b)"
   ]
  },
  {
   "cell_type": "code",
   "execution_count": 4,
   "metadata": {},
   "outputs": [],
   "source": [
    "def func():\n",
    "    a = 1\n",
    "    b = 2\n",
    "    return (a,b)"
   ]
  },
  {
   "cell_type": "code",
   "execution_count": null,
   "metadata": {},
   "outputs": [],
   "source": []
  },
  {
   "cell_type": "code",
   "execution_count": 5,
   "metadata": {},
   "outputs": [
    {
     "name": "stdout",
     "output_type": "stream",
     "text": [
      "1   2\n"
     ]
    }
   ],
   "source": [
    "a,b = func()\n",
    "\n",
    "print(a,\" \", b)"
   ]
  },
  {
   "cell_type": "code",
   "execution_count": null,
   "metadata": {},
   "outputs": [],
   "source": []
  }
 ],
 "metadata": {
  "kernelspec": {
   "display_name": "Python 3",
   "language": "python",
   "name": "python3"
  },
  "language_info": {
   "codemirror_mode": {
    "name": "ipython",
    "version": 3
   },
   "file_extension": ".py",
   "mimetype": "text/x-python",
   "name": "python",
   "nbconvert_exporter": "python",
   "pygments_lexer": "ipython3",
   "version": "3.11.0"
  }
 },
 "nbformat": 4,
 "nbformat_minor": 2
}
