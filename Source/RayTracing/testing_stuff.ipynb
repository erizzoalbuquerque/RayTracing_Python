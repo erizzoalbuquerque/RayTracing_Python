{
 "cells": [
  {
   "cell_type": "code",
   "execution_count": 1,
   "metadata": {},
   "outputs": [
    {
     "name": "stdout",
     "output_type": "stream",
     "text": [
      "1\n",
      "2\n",
      "3\n",
      "4\n"
     ]
    }
   ],
   "source": [
    "for i in range(1,5):\n",
    "    print(i)"
   ]
  },
  {
   "cell_type": "code",
   "execution_count": 3,
   "metadata": {},
   "outputs": [
    {
     "name": "stdout",
     "output_type": "stream",
     "text": [
      "[            1 ][            2 ][            3 ]\n",
      "[            1 ][            2 ][            3 ]\n",
      "[            1 ][            2 ][            3 ]\n",
      "vec3(         3210,         3210,         3210 )\n"
     ]
    }
   ],
   "source": [
    "import glm\n",
    "\n",
    "a = glm.vec3(1)\n",
    "b = glm.vec3(2)\n",
    "c = glm.vec3(3)\n",
    "\n",
    "M = glm.mat3(a,b,c)\n",
    "\n",
    "print(M)\n",
    "\n",
    "d = M * glm.vec3(10,100,1000)\n",
    "\n",
    "print(d)\n",
    " "
   ]
  },
  {
   "cell_type": "code",
   "execution_count": 6,
   "metadata": {},
   "outputs": [
    {
     "name": "stdout",
     "output_type": "stream",
     "text": [
      "vec3(          -10,            1,            0 )\n"
     ]
    }
   ],
   "source": [
    "import glm\n",
    "\n",
    "i = glm.vec3(0,-1,0)\n",
    "n = glm.vec3(0,1,0)\n",
    "o = glm.reflect(i,n)\n",
    "\n",
    "print(o)"
   ]
  },
  {
   "cell_type": "code",
   "execution_count": null,
   "metadata": {},
   "outputs": [],
   "source": []
  }
 ],
 "metadata": {
  "kernelspec": {
   "display_name": "env",
   "language": "python",
   "name": "python3"
  },
  "language_info": {
   "codemirror_mode": {
    "name": "ipython",
    "version": 3
   },
   "file_extension": ".py",
   "mimetype": "text/x-python",
   "name": "python",
   "nbconvert_exporter": "python",
   "pygments_lexer": "ipython3",
   "version": "3.11.0"
  }
 },
 "nbformat": 4,
 "nbformat_minor": 2
}
